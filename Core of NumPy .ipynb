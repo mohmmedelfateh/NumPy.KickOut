{
 "cells": [
  {
   "cell_type": "markdown",
   "id": "1c4a5057",
   "metadata": {},
   "source": [
    "# Creating Numpy Array"
   ]
  },
  {
   "cell_type": "code",
   "execution_count": 1,
   "id": "641d6c6e",
   "metadata": {},
   "outputs": [],
   "source": [
    "import numpy as np"
   ]
  },
  {
   "cell_type": "code",
   "execution_count": 2,
   "id": "aa801441",
   "metadata": {},
   "outputs": [
    {
     "name": "stdout",
     "output_type": "stream",
     "text": [
      "<class 'list'>\n",
      "<class 'numpy.ndarray'>\n"
     ]
    }
   ],
   "source": [
    "data = [1, 3, 5, 7]\n",
    "print(type(data))\n",
    "a = np.array(data)\n",
    "print(type(a))"
   ]
  },
  {
   "cell_type": "markdown",
   "id": "b1cadfd4",
   "metadata": {},
   "source": [
    "### Not only that but also all  <font color='red'>Iterable</font> \n",
    "Iterables include all sequence types (such as list, str, and tuple) and some non-sequence types like dict, file objects.\n",
    "\n",
    "Objects of any classes you define with an \\_\\_iter\\_\\_() method or with a \\_\\_getitem\\_\\_()"
   ]
  },
  {
   "cell_type": "code",
   "execution_count": 3,
   "id": "342b13ad",
   "metadata": {},
   "outputs": [
    {
     "name": "stdout",
     "output_type": "stream",
     "text": [
      "<class 'str'>\n",
      "<class 'numpy.ndarray'>\n"
     ]
    }
   ],
   "source": [
    "String = 'HI AI Students'\n",
    "print(type(String))\n",
    "a = np.array(String)\n",
    "print(type(a))"
   ]
  },
  {
   "cell_type": "code",
   "execution_count": 4,
   "id": "a6aed575",
   "metadata": {},
   "outputs": [
    {
     "name": "stdout",
     "output_type": "stream",
     "text": [
      "<class 'tuple'>\n",
      "<class 'numpy.ndarray'>\n"
     ]
    }
   ],
   "source": [
    "Tuple = (1,4,6,7)\n",
    "print(type(Tuple))\n",
    "a = np.array(Tuple)\n",
    "print(type(a))"
   ]
  },
  {
   "cell_type": "code",
   "execution_count": 5,
   "id": "59387136",
   "metadata": {},
   "outputs": [
    {
     "name": "stdout",
     "output_type": "stream",
     "text": [
      "<class 'dict'>\n",
      "<class 'numpy.ndarray'>\n"
     ]
    }
   ],
   "source": [
    "Dict = dict({1: 'HI', 2: 'AI', 3: 'Students'})\n",
    "print(type(Dict))\n",
    "a = np.array(Dict)\n",
    "print(type(a))"
   ]
  },
  {
   "cell_type": "code",
   "execution_count": 6,
   "id": "987b46bc",
   "metadata": {},
   "outputs": [
    {
     "name": "stdout",
     "output_type": "stream",
     "text": [
      "<class '_io.TextIOWrapper'>\n",
      "<class 'numpy.ndarray'>\n"
     ]
    }
   ],
   "source": [
    "with open('Text.txt','r') as File:\n",
    "    print(type(File))\n",
    "    a = np.array(File)\n",
    "    print(type(a))"
   ]
  },
  {
   "cell_type": "markdown",
   "id": "28c87125",
   "metadata": {},
   "source": [
    "# Array Attributes in Numpy\n"
   ]
  },
  {
   "cell_type": "code",
   "execution_count": 7,
   "id": "d3edd59f",
   "metadata": {},
   "outputs": [
    {
     "name": "stdout",
     "output_type": "stream",
     "text": [
      "[1 3 5 7]\n",
      "1\n",
      "(4,)\n",
      "[[1 3]\n",
      " [5 7]]\n",
      "2\n",
      "(2, 2)\n"
     ]
    }
   ],
   "source": [
    "ndarray = np.array([1, 3, 5, 7])\n",
    "print(ndarray)\n",
    "print(ndarray.ndim)\n",
    "print(ndarray.shape)\n",
    "ndarray.shape = (2,2)\n",
    "print(ndarray)\n",
    "print(ndarray.ndim)\n",
    "print(ndarray.shape)"
   ]
  },
  {
   "cell_type": "code",
   "execution_count": 8,
   "id": "c242e233",
   "metadata": {},
   "outputs": [
    {
     "data": {
      "text/plain": [
       "4"
      ]
     },
     "execution_count": 8,
     "metadata": {},
     "output_type": "execute_result"
    }
   ],
   "source": [
    "ndarray.size"
   ]
  },
  {
   "cell_type": "code",
   "execution_count": 9,
   "id": "c74e26db",
   "metadata": {},
   "outputs": [
    {
     "data": {
      "text/plain": [
       "dtype('int32')"
      ]
     },
     "execution_count": 9,
     "metadata": {},
     "output_type": "execute_result"
    }
   ],
   "source": [
    "ndarray.dtype"
   ]
  },
  {
   "cell_type": "markdown",
   "id": "7d8d2e9c",
   "metadata": {},
   "source": [
    "# Indexing and Slicing\n"
   ]
  },
  {
   "cell_type": "markdown",
   "id": "928e9db3",
   "metadata": {},
   "source": [
    "## Indexing"
   ]
  },
  {
   "cell_type": "code",
   "execution_count": 10,
   "id": "51a9af53",
   "metadata": {},
   "outputs": [
    {
     "name": "stdout",
     "output_type": "stream",
     "text": [
      "[ 0  1  2  3  4  5  6  7  8  9 10 11]\n"
     ]
    },
    {
     "data": {
      "text/plain": [
       "3"
      ]
     },
     "execution_count": 10,
     "metadata": {},
     "output_type": "execute_result"
    }
   ],
   "source": [
    "# Examples for 1D.\n",
    "a = np.arange(12)\n",
    "print(a)\n",
    "a[3]"
   ]
  },
  {
   "cell_type": "code",
   "execution_count": 11,
   "id": "3fc8a9ed",
   "metadata": {},
   "outputs": [
    {
     "data": {
      "text/plain": [
       "array([4, 5, 6, 7])"
      ]
     },
     "execution_count": 11,
     "metadata": {},
     "output_type": "execute_result"
    }
   ],
   "source": [
    "# Examples for 2D.\n",
    "a = np.array([[0,1,2,3],[4,5,6,7],[8,9,10,11]])\n",
    "a[1]"
   ]
  },
  {
   "cell_type": "code",
   "execution_count": 12,
   "id": "f14b575f",
   "metadata": {},
   "outputs": [
    {
     "name": "stdout",
     "output_type": "stream",
     "text": [
      "5\n",
      "5\n"
     ]
    }
   ],
   "source": [
    "print(a[1,1])\n",
    "print(a[1][1])"
   ]
  },
  {
   "cell_type": "markdown",
   "id": "50318336",
   "metadata": {},
   "source": [
    "## Slicing\n",
    "**Parts of the array based on the index**\n",
    "\n",
    "[start : end : step]\n",
    "\n",
    "If step is not specified, it is assumed as 1.\n",
    "\n",
    "If start is not mentioned, it is considered 0.\n",
    "\n",
    "If end is not mentioned, it is considered -1.\n",
    "\n"
   ]
  },
  {
   "cell_type": "code",
   "execution_count": 13,
   "id": "632a22bb",
   "metadata": {},
   "outputs": [
    {
     "name": "stdout",
     "output_type": "stream",
     "text": [
      "[ 0  1  2  3  4  5  6  7  8  9 10 11]\n",
      "[6 7 8]\n",
      "[ 6  7  8  9 10 11]\n"
     ]
    }
   ],
   "source": [
    "# Slicing in 1D.\n",
    "a = np.arange(12)\n",
    "print(a)\n",
    "print(a[6:9])\n",
    "print(a[6:])\n"
   ]
  },
  {
   "cell_type": "code",
   "execution_count": 14,
   "id": "469e9482",
   "metadata": {},
   "outputs": [
    {
     "name": "stdout",
     "output_type": "stream",
     "text": [
      "[[ 0  1  2  3]\n",
      " [ 4  5  6  7]\n",
      " [ 8  9 10 11]]\n",
      "==============================\n",
      "[[ 4  5  6  7]\n",
      " [ 8  9 10 11]]\n"
     ]
    }
   ],
   "source": [
    "# Slicing in 2D.\n",
    "a = np.array([[0,1,2,3],[4,5,6,7],[8,9,10,11]])\n",
    "print(a)\n",
    "print(\"=\"*30)\n",
    "print(a[1:]) # This will give us rows 1 and 2 and all columns."
   ]
  },
  {
   "cell_type": "code",
   "execution_count": 15,
   "id": "383b159e",
   "metadata": {},
   "outputs": [
    {
     "name": "stdout",
     "output_type": "stream",
     "text": [
      "[4 8]\n",
      "==============================\n",
      "[[ 5  6]\n",
      " [ 9 10]]\n",
      "==============================\n",
      "[[ 0  2]\n",
      " [ 8 10]]\n"
     ]
    }
   ],
   "source": [
    "# Now we will get, rows 1 and 2 and column 0.\n",
    "print(a[1:, 0])\n",
    "print(\"=\"*30)\n",
    "# Now let's get rows 1 and 2 and columns 1 and 2.\n",
    "print(a[1:, 1:3])\n",
    "print(\"=\"*30)\n",
    "# Now let's get alternate rows and columns.\n",
    "print(a[::2, ::2])"
   ]
  },
  {
   "cell_type": "markdown",
   "id": "13e55c2d",
   "metadata": {},
   "source": [
    "# Filtering"
   ]
  },
  {
   "cell_type": "code",
   "execution_count": 16,
   "id": "29a4ffca",
   "metadata": {},
   "outputs": [
    {
     "name": "stdout",
     "output_type": "stream",
     "text": [
      "[False  True False  True False  True False  True False  True False  True]\n"
     ]
    }
   ],
   "source": [
    "a = np.arange(1,13)\n",
    "filter_a = a % 2 == 0 \n",
    "print(filter_a)"
   ]
  },
  {
   "cell_type": "code",
   "execution_count": 17,
   "id": "4285d940",
   "metadata": {},
   "outputs": [
    {
     "data": {
      "text/plain": [
       "array([ 2,  4,  6,  8, 10, 12])"
      ]
     },
     "execution_count": 17,
     "metadata": {},
     "output_type": "execute_result"
    }
   ],
   "source": [
    "a[filter_a]"
   ]
  },
  {
   "cell_type": "code",
   "execution_count": 18,
   "id": "d5511725",
   "metadata": {},
   "outputs": [
    {
     "data": {
      "text/plain": [
       "array([ 3,  6,  9, 12])"
      ]
     },
     "execution_count": 18,
     "metadata": {},
     "output_type": "execute_result"
    }
   ],
   "source": [
    "a[a%3 == 0]"
   ]
  },
  {
   "cell_type": "markdown",
   "id": "0d15a0dc",
   "metadata": {},
   "source": [
    "## Filter Using Multiple Conditions"
   ]
  },
  {
   "cell_type": "code",
   "execution_count": 19,
   "id": "12a3b7be",
   "metadata": {},
   "outputs": [
    {
     "data": {
      "text/plain": [
       "array([ 8, 10, 12])"
      ]
     },
     "execution_count": 19,
     "metadata": {},
     "output_type": "execute_result"
    }
   ],
   "source": [
    "filter_a1 = a > 7\n",
    "a[filter_a & filter_a1]"
   ]
  },
  {
   "cell_type": "code",
   "execution_count": 20,
   "id": "4b02f2a1",
   "metadata": {},
   "outputs": [
    {
     "data": {
      "text/plain": [
       "array([ 8, 10, 12])"
      ]
     },
     "execution_count": 20,
     "metadata": {},
     "output_type": "execute_result"
    }
   ],
   "source": [
    "a[( a % 2 == 0 ) & (a > 7)]"
   ]
  },
  {
   "cell_type": "markdown",
   "id": "2124c6ae",
   "metadata": {},
   "source": [
    "# Arithmetic Operations"
   ]
  },
  {
   "cell_type": "code",
   "execution_count": 21,
   "id": "8fd0b39b",
   "metadata": {},
   "outputs": [
    {
     "data": {
      "text/plain": [
       "array([4, 5, 6])"
      ]
     },
     "execution_count": 21,
     "metadata": {},
     "output_type": "execute_result"
    }
   ],
   "source": [
    "a = np.array([1, 2, 3])\n",
    "b = 3\n",
    "a+b"
   ]
  },
  {
   "cell_type": "code",
   "execution_count": 22,
   "id": "7e5a5d85",
   "metadata": {},
   "outputs": [
    {
     "data": {
      "text/plain": [
       "array([3, 6, 9])"
      ]
     },
     "execution_count": 22,
     "metadata": {},
     "output_type": "execute_result"
    }
   ],
   "source": [
    "a*b"
   ]
  },
  {
   "cell_type": "code",
   "execution_count": 23,
   "id": "7543c39a",
   "metadata": {},
   "outputs": [
    {
     "data": {
      "text/plain": [
       "array([5, 7, 9])"
      ]
     },
     "execution_count": 23,
     "metadata": {},
     "output_type": "execute_result"
    }
   ],
   "source": [
    "c = np.array([4, 5, 6])\n",
    "a+c "
   ]
  },
  {
   "cell_type": "code",
   "execution_count": 24,
   "id": "0ab5e0d7",
   "metadata": {},
   "outputs": [
    {
     "data": {
      "text/plain": [
       "array([ 4, 10, 18])"
      ]
     },
     "execution_count": 24,
     "metadata": {},
     "output_type": "execute_result"
    }
   ],
   "source": [
    "a*c"
   ]
  },
  {
   "cell_type": "code",
   "execution_count": 25,
   "id": "640f3028",
   "metadata": {},
   "outputs": [
    {
     "data": {
      "text/plain": [
       "array([[4, 5, 6],\n",
       "       [7, 8, 9]])"
      ]
     },
     "execution_count": 25,
     "metadata": {},
     "output_type": "execute_result"
    }
   ],
   "source": [
    "a1 = np.array([[1,2,3],[4,5,6]])\n",
    "b = 3\n",
    "a1+b"
   ]
  },
  {
   "cell_type": "code",
   "execution_count": 26,
   "id": "494f82af",
   "metadata": {},
   "outputs": [
    {
     "data": {
      "text/plain": [
       "array([[ 3,  6,  9],\n",
       "       [12, 15, 18]])"
      ]
     },
     "execution_count": 26,
     "metadata": {},
     "output_type": "execute_result"
    }
   ],
   "source": [
    "a1*b"
   ]
  },
  {
   "cell_type": "code",
   "execution_count": 27,
   "id": "4b192399",
   "metadata": {},
   "outputs": [
    {
     "data": {
      "text/plain": [
       "array([[ 5,  7,  9],\n",
       "       [ 8, 10, 12]])"
      ]
     },
     "execution_count": 27,
     "metadata": {},
     "output_type": "execute_result"
    }
   ],
   "source": [
    "a1+c"
   ]
  },
  {
   "cell_type": "code",
   "execution_count": 28,
   "id": "8695e37c",
   "metadata": {},
   "outputs": [
    {
     "data": {
      "text/plain": [
       "array([[ 4, 10, 18],\n",
       "       [16, 25, 36]])"
      ]
     },
     "execution_count": 28,
     "metadata": {},
     "output_type": "execute_result"
    }
   ],
   "source": [
    "a1*c"
   ]
  }
 ],
 "metadata": {
  "kernelspec": {
   "display_name": "Python 3 (ipykernel)",
   "language": "python",
   "name": "python3"
  },
  "language_info": {
   "codemirror_mode": {
    "name": "ipython",
    "version": 3
   },
   "file_extension": ".py",
   "mimetype": "text/x-python",
   "name": "python",
   "nbconvert_exporter": "python",
   "pygments_lexer": "ipython3",
   "version": "3.9.12"
  }
 },
 "nbformat": 4,
 "nbformat_minor": 5
}
